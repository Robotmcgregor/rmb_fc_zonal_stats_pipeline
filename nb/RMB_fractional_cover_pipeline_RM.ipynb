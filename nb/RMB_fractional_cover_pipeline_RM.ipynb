{
 "cells": [
  {
   "cell_type": "markdown",
   "metadata": {},
   "source": [
    "# RMB Fractional Cover Zonal Stats Pipeline.\n",
    "\n",
    "Copyright 2021 Robert McGregor"
   ]
  },
  {
   "cell_type": "markdown",
   "metadata": {},
   "source": [
    "## Run the fractiona cover pipeline"
   ]
  },
  {
   "cell_type": "markdown",
   "metadata": {},
   "source": [
    "#### Change your working directory to code"
   ]
  },
  {
   "cell_type": "code",
   "execution_count": 1,
   "metadata": {},
   "outputs": [
    {
     "name": "stdout",
     "output_type": "stream",
     "text": [
      "E:\\DEPWS\\code\\rangeland_monitoring\\rmb_fractional_cover_zonal_stats_pipeline_tif\\code\n"
     ]
    }
   ],
   "source": [
    "import os\n",
    "path_parent = os.path.dirname(os.getcwd())\n",
    "code_dir =  path_parent +  '\\\\code'\n",
    "os.chdir(code_dir)\n",
    "print(os.getcwd())\n",
    "# path should be: E:\\DENR\\code\\rangeland_monitoring\\fractional_cover_zonal_stats_pipeline\\code"
   ]
  },
  {
   "cell_type": "code",
   "execution_count": 3,
   "metadata": {},
   "outputs": [
    {
     "name": "stdout",
     "output_type": "stream",
     "text": [
      "usage: step1_1_initiate_fractional_cover_zonal_stats_pipeline.py\n",
      "       [-h] [-t TILE_GRID] [-d DIRECTORY_ODK] [-x EXPORT_DIR] [-i IMAGE_COUNT]\n",
      "       [-l LANDSAT_DIR] [-n NO_DATA] [-r RAINFALL_DIR] [-s1 SEARCH_CRITERIA1]\n",
      "       [-s2 SEARCH_CRITERIA2] [-s3 SEARCH_CRITERIA3] [-e END_DATE] [-v VISITS]\n",
      "       [-p PASTORAL_ESTATE] [-m ROLLING_MEAN] [-pd PASTORAL_DISTRICTS_DIR]\n",
      "\n",
      "Input a single or multi-band raster to extracts the values from the input\n",
      "shapefile.\n",
      "\n",
      "optional arguments:\n",
      "  -h, --help            show this help message and exit\n",
      "  -t TILE_GRID, --tile_grid TILE_GRID\n",
      "                        Enter filepath for the Landsat Tile Grid.shp.\n",
      "  -d DIRECTORY_ODK, --directory_odk DIRECTORY_ODK\n",
      "                        The directory containing the ODK output excel files.\n",
      "  -x EXPORT_DIR, --export_dir EXPORT_DIR\n",
      "                        Enter the export directory for all of the final\n",
      "                        outputs.\n",
      "  -i IMAGE_COUNT, --image_count IMAGE_COUNT\n",
      "                        Enter the minimum amount of Landsat images required\n",
      "                        per tile as an integer (i.e. 950).\n",
      "  -l LANDSAT_DIR, --landsat_dir LANDSAT_DIR\n",
      "                        Enter the Landsat Directory path\n",
      "  -n NO_DATA, --no_data NO_DATA\n",
      "                        Enter the Landsat Fractional Cover no data value (i.e.\n",
      "                        0)\n",
      "  -r RAINFALL_DIR, --rainfall_dir RAINFALL_DIR\n",
      "                        Enter the rainfall image directory path.\n",
      "  -s1 SEARCH_CRITERIA1, --search_criteria1 SEARCH_CRITERIA1\n",
      "                        Enter the end name search criteria string for the\n",
      "                        Fractional cover Landsat images(i.e.\n",
      "                        'dilm2_zstdmask.img').\n",
      "  -s2 SEARCH_CRITERIA2, --search_criteria2 SEARCH_CRITERIA2\n",
      "                        Enter the end name search criteria string for the\n",
      "                        Fractional cover Landsat images (i.e.\n",
      "                        'dilm3_zstdmask.img').\n",
      "  -s3 SEARCH_CRITERIA3, --search_criteria3 SEARCH_CRITERIA3\n",
      "                        Enter the end name search criteria string for the QLD\n",
      "                        Rainfall images (i.e. '.tif').\n",
      "  -e END_DATE, --end_date END_DATE\n",
      "                        Final date for the rainfall data override\n",
      "                        (i.e.2020-08-31) Do not enter ifyou want the script to\n",
      "                        determine the finish date..\n",
      "  -v VISITS, --visits VISITS\n",
      "                        Path to the latest integrated site shapefile\n",
      "                        containing previous visit information (default).\n",
      "  -p PASTORAL_ESTATE, --pastoral_estate PASTORAL_ESTATE\n",
      "                        File path to the pastoral estate shapefile.\n",
      "  -m ROLLING_MEAN, --rolling_mean ROLLING_MEAN\n",
      "                        Integer value (i.e 3 or 5) to create the rolling mean\n",
      "                        of the date.\n",
      "  -pd PASTORAL_DISTRICTS_DIR, --pastoral_districts_dir PASTORAL_DISTRICTS_DIR\n",
      "                        File path to the Pastoral_Districts directory.\n"
     ]
    }
   ],
   "source": [
    "run step1_1_initiate_fractional_cover_zonal_stats_pipeline.py -h"
   ]
  },
  {
   "cell_type": "code",
   "execution_count": 4,
   "metadata": {
    "scrolled": true
   },
   "outputs": [
    {
     "name": "stdout",
     "output_type": "stream",
     "text": [
      "The following temporary directory will be created:  \\rmcgr_20220615_1638\n",
      "The following export directory will be created:  Z:\\Scratch\\Zonal_Stats_Pipeline\\rmb_fractional_cover_zonal_stats\\outputs\\rmcgr_20220615_1638\n",
      "--------------------------------------------------\n",
      "rain_start_date:  1880-01-01\n",
      "rain_finish_date:  2022-05-30\n",
      "The following ODK forms were identified for processing:\n",
      " - Integrated:  0\n",
      "There are no integrated  sites to be processed.\n",
      "There are no shapefiles to concatenate:  WGS84z52\n"
     ]
    },
    {
     "ename": "SystemExit",
     "evalue": "1",
     "output_type": "error",
     "traceback": [
      "An exception has occurred, use %tb to see the full traceback.\n",
      "\u001b[1;31mSystemExit\u001b[0m\u001b[1;31m:\u001b[0m 1\n"
     ]
    }
   ],
   "source": [
    "run step1_1_initiate_fractional_cover_zonal_stats_pipeline.py \\\n",
    "-d Z:\\Scratch\\Rob\\tern\\tower_flux\\shp\\all_locations.csv \\\n",
    "    -i 700"
   ]
  },
  {
   "cell_type": "code",
   "execution_count": null,
   "metadata": {},
   "outputs": [],
   "source": [
    "\n"
   ]
  },
  {
   "cell_type": "code",
   "execution_count": null,
   "metadata": {},
   "outputs": [],
   "source": []
  }
 ],
 "metadata": {
  "kernelspec": {
   "display_name": "Python 3",
   "language": "python",
   "name": "python3"
  },
  "language_info": {
   "codemirror_mode": {
    "name": "ipython",
    "version": 3
   },
   "file_extension": ".py",
   "mimetype": "text/x-python",
   "name": "python",
   "nbconvert_exporter": "python",
   "pygments_lexer": "ipython3",
   "version": "3.7.7"
  }
 },
 "nbformat": 4,
 "nbformat_minor": 2
}
