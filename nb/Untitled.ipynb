{
 "cells": [
  {
   "cell_type": "code",
   "execution_count": 61,
   "metadata": {},
   "outputs": [],
   "source": [
    "import os\n",
    "from pathlib import Path"
   ]
  },
  {
   "cell_type": "code",
   "execution_count": 85,
   "metadata": {},
   "outputs": [],
   "source": [
    "directory = Path('Z:/Scratch/Zonal_Stats_Pipeline/rmb_aggregate_processing/outputs/rmcgr_20211222_1347/site_outputs')\n",
    "search_criteria =   'clean_ras.csv'"
   ]
  },
  {
   "cell_type": "code",
   "execution_count": 86,
   "metadata": {},
   "outputs": [
    {
     "data": {
      "text/plain": [
       "WindowsPath('Z:/Scratch/Zonal_Stats_Pipeline/rmb_aggregate_processing/outputs/rmcgr_20211222_1347/site_outputs')"
      ]
     },
     "execution_count": 86,
     "metadata": {},
     "output_type": "execute_result"
    }
   ],
   "source": [
    "directory"
   ]
  },
  {
   "cell_type": "code",
   "execution_count": 87,
   "metadata": {},
   "outputs": [
    {
     "data": {
      "text/plain": [
       "'Z:\\\\Scratch\\\\Zonal_Stats_Pipeline\\\\rmb_aggregate_processing\\\\outputs\\\\rmcgr_20211222_1347\\\\site_outputs\\\\test'"
      ]
     },
     "execution_count": 87,
     "metadata": {},
     "output_type": "execute_result"
    }
   ],
   "source": [
    "new_dir = os.path.join(directory, 'test')\n",
    "new_dir"
   ]
  },
  {
   "cell_type": "code",
   "execution_count": 60,
   "metadata": {},
   "outputs": [
    {
     "name": "stdout",
     "output_type": "stream",
     "text": [
      "Z:\\Scratch\\Zonal_Stats_Pipeline\r",
      "mb_aggregate_processing\\outputs\r",
      "mcgr_20211222_1347\\site_outputs\n"
     ]
    }
   ],
   "source": [
    "dir_ = os.path.join('r', directory)\n",
    "print(dir_)"
   ]
  },
  {
   "cell_type": "code",
   "execution_count": null,
   "metadata": {},
   "outputs": [],
   "source": []
  },
  {
   "cell_type": "code",
   "execution_count": 69,
   "metadata": {},
   "outputs": [
    {
     "ename": "AttributeError",
     "evalue": "'WindowsPath' object has no attribute 'split'",
     "output_type": "error",
     "traceback": [
      "\u001b[1;31m---------------------------------------------------------------------------\u001b[0m",
      "\u001b[1;31mAttributeError\u001b[0m                            Traceback (most recent call last)",
      "\u001b[1;32m<ipython-input-69-7fbaea180fa8>\u001b[0m in \u001b[0;36m<module>\u001b[1;34m()\u001b[0m\n\u001b[1;32m----> 1\u001b[1;33m \u001b[0mlist_split\u001b[0m \u001b[1;33m=\u001b[0m \u001b[0mdirectory\u001b[0m\u001b[1;33m.\u001b[0m\u001b[0msplit\u001b[0m\u001b[1;33m(\u001b[0m\u001b[1;34m'\\\\'\u001b[0m\u001b[1;33m)\u001b[0m\u001b[1;33m\u001b[0m\u001b[1;33m\u001b[0m\u001b[0m\n\u001b[0m\u001b[0;32m      2\u001b[0m \u001b[0mprint\u001b[0m\u001b[1;33m(\u001b[0m\u001b[0mlist_split\u001b[0m\u001b[1;33m)\u001b[0m\u001b[1;33m\u001b[0m\u001b[1;33m\u001b[0m\u001b[0m\n",
      "\u001b[1;31mAttributeError\u001b[0m: 'WindowsPath' object has no attribute 'split'"
     ]
    }
   ],
   "source": [
    "list_split = directory.split('\\\\')\n",
    "print(list_split)"
   ]
  },
  {
   "cell_type": "code",
   "execution_count": 66,
   "metadata": {},
   "outputs": [
    {
     "name": "stdout",
     "output_type": "stream",
     "text": [
      "Z:\\Scratch\\Zonal_Stats_Pipeline\r",
      "mb_aggregate_processing\\outputs\r",
      "mcgr_20211222_1347\\site_outputs\n"
     ]
    }
   ],
   "source": [
    "windows_path = Path(directory)\n",
    "print(windows_path)"
   ]
  },
  {
   "cell_type": "code",
   "execution_count": 34,
   "metadata": {},
   "outputs": [
    {
     "name": "stdout",
     "output_type": "stream",
     "text": [
      "Z:\\Scratch\\Zonal_Stats_Pipeline\r",
      "mb_aggregate_processing\\outputs\r",
      "mcgr_20211222_1321\\site_outputs\n"
     ]
    }
   ],
   "source": [
    "new_path = os.path.join('Z:\\Scratch\\Zonal_Stats_Pipeline\\rmb_aggregate_processing\\outputs\\rmcgr_20211222_1321\\site_outputs')\n",
    "print(new_path)"
   ]
  },
  {
   "cell_type": "code",
   "execution_count": 88,
   "metadata": {},
   "outputs": [],
   "source": [
    "for root, dirs, files in os.walk(new_dir):\n",
    "    print(files)"
   ]
  },
  {
   "cell_type": "code",
   "execution_count": 49,
   "metadata": {},
   "outputs": [
    {
     "name": "stdout",
     "output_type": "stream",
     "text": [
      "directory:  Z:\\Scratch\\Zonal_Stats_Pipeline\r",
      "mb_aggregate_processing\\outputs\r",
      "mcgr_20211222_1321\\site_outputs\n",
      "search_criteria:  clean_ras.csv\n",
      "==================================================\n",
      "csv_list:  []\n"
     ]
    }
   ],
   "source": [
    "csv_list = []\n",
    "print('directory: ', new_path)\n",
    "print('search_criteria: ', search_criteria)\n",
    "print('='*50)\n",
    "for root, dirpath, files in os.walk(directory):\n",
    "    print(root)\n",
    "    print('dirpath: ', dirpath)\n",
    "    for x in files:\n",
    "        print('x', x)\n",
    "        print(os.path.join(dirpath, x))\n",
    "    csv_list.extend(os.path.join(dirpath, x) for x in files if x.endswith(search_criteria))\n",
    "print('csv_list: ', csv_list)"
   ]
  },
  {
   "cell_type": "code",
   "execution_count": null,
   "metadata": {},
   "outputs": [],
   "source": []
  }
 ],
 "metadata": {
  "kernelspec": {
   "display_name": "Python 3",
   "language": "python",
   "name": "python3"
  },
  "language_info": {
   "codemirror_mode": {
    "name": "ipython",
    "version": 3
   },
   "file_extension": ".py",
   "mimetype": "text/x-python",
   "name": "python",
   "nbconvert_exporter": "python",
   "pygments_lexer": "ipython3",
   "version": "3.7.7"
  }
 },
 "nbformat": 4,
 "nbformat_minor": 4
}
